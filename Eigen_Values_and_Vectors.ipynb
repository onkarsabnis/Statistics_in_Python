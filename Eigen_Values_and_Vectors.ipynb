{
 "cells": [
  {
   "cell_type": "markdown",
   "metadata": {},
   "source": [
    "### Key Equation: \n",
    "$Ax = \\lambda b ~~ \\text{for} ~~ n \\times n $\n",
    "Transformations\n",
    "So what really happens when we multiply the $A$ matrix with a vector $x$\n",
    "\n",
    "Lets say we have a vector - $x$\n",
    "\n",
    "$$ x = \\begin{bmatrix} -1 \\\\ 1 \\end{bmatrix} $$\n",
    "What happens when we multiply by a matrix - $A$\n",
    "\n",
    "$$ Ax = 4Ix $$$$ Ax = 4x $$\n",
    "So this particular matrix has just scaled our original vector. It is a scalar transformation. Other matrices can do reflection, rotation and any arbitary transformation in the same 2d space for n = 2."
   ]
  },
  {
   "cell_type": "code",
   "execution_count": 1,
   "metadata": {},
   "outputs": [],
   "source": [
    "import numpy as np\n",
    "import matplotlib.pyplot as plt\n",
    "%matplotlib inline\n",
    "plt.style.use('fivethirtyeight')\n",
    "plt.rcParams['figure.figsize'] = (10, 6)"
   ]
  },
  {
   "cell_type": "code",
   "execution_count": 6,
   "metadata": {},
   "outputs": [],
   "source": [
    "def vector_plot (vector):\n",
    "    X,Y,U,V = zip(*vector)\n",
    "    C = [1,1,2,2]\n",
    "    plt.figure()\n",
    "    ax = plt.gca()\n",
    "    ax.quiver(X,Y,U,V,C, angles='xy',scale_units='xy',scale=1)\n",
    "    ax.set_xlim([-6,6])\n",
    "    ax.set_ylim([-6,6])\n",
    "    plt.axhline(0, color='grey', linewidth=1)\n",
    "    plt.axvline(0, color='grey', linewidth=1)\n",
    "    plt.axes().set_aspect('equal')\n",
    "    plt.draw()"
   ]
  },
  {
   "cell_type": "code",
   "execution_count": 19,
   "metadata": {},
   "outputs": [],
   "source": [
    "\n",
    "A = np.array([[ 6 , 2],\n",
    "               [ 3 , 6]])"
   ]
  },
  {
   "cell_type": "code",
   "execution_count": 8,
   "metadata": {},
   "outputs": [],
   "source": [
    "x = np.array([[-1],\n",
    "             [1]])"
   ]
  },
  {
   "cell_type": "code",
   "execution_count": 13,
   "metadata": {},
   "outputs": [],
   "source": [
    "v = A.dot(x)"
   ]
  },
  {
   "cell_type": "code",
   "execution_count": 23,
   "metadata": {},
   "outputs": [],
   "source": [
    "\n",
    "# All the vectors start at 0, 0 \n",
    "vAX = np.r_[[0,0],A[:,0]]\n",
    "vAY = np.r_[[0,0],A[:,1]]\n",
    "vx = np.r_[[0,0],x[:,0]]\n",
    "vv = np.r_[[0,0],v[:,0]]"
   ]
  },
  {
   "cell_type": "code",
   "execution_count": 24,
   "metadata": {},
   "outputs": [
    {
     "name": "stderr",
     "output_type": "stream",
     "text": [
      "C:\\Users\\LENOVO\\Anaconda3\\lib\\site-packages\\ipykernel_launcher.py:11: MatplotlibDeprecationWarning: Adding an axes using the same arguments as a previous axes currently reuses the earlier instance.  In a future version, a new instance will always be created and returned.  Meanwhile, this warning can be suppressed, and the future behavior ensured, by passing a unique label to each axes instance.\n",
      "  # This is added back by InteractiveShellApp.init_path()\n"
     ]
    },
    {
     "data": {
      "image/png": "[encoded data removed]",
      "text/plain": [
       "<Figure size 720x432 with 1 Axes>"
      ]
     },
     "metadata": {},
     "output_type": "display_data"
    }
   ],
   "source": [
    "vector_plot([vAX, vAY, vx, vv])\n"
   ]
  },
  {
   "cell_type": "markdown",
   "metadata": {},
   "source": [
    "### General Case\n",
    "The second part of linear algebra is solving the equation, for a given $A$ -\n",
    "\n",
    "$$ Ax = \\lambda x$$\n",
    "Note that both $x$ and $\\lambda$ are unknown in this equation. For all solutions of them:\n",
    "\n",
    "$$ \\text{eigenvalues} = \\lambda $$$$ \\text{eigenvectors} = x $$\n",
    "#### Calculating Eigenvalues\n",
    "So let us first solve this for $\\lambda$ :\n",
    "\n",
    "$$ Ax = \\lambda Ix $$$$ (A-\\lambda I)x = 0 $$\n",
    "So for non-trivial solution of $x$, $A$ should be singular:\n",
    "\n",
    "$$ ||A - \\lambda I|| = 0 $$"
   ]
  },
  {
   "cell_type": "code",
   "execution_count": 27,
   "metadata": {},
   "outputs": [],
   "source": [
    "A = np.array([[ 3 , 1],\n",
    "               [ 1 , 3]])"
   ]
  },
  {
   "cell_type": "code",
   "execution_count": 28,
   "metadata": {},
   "outputs": [],
   "source": [
    "eigen_val, eigen_vec = np.linalg.eig(A)"
   ]
  },
  {
   "cell_type": "code",
   "execution_count": 29,
   "metadata": {},
   "outputs": [
    {
     "data": {
      "text/plain": [
       "array([4., 2.])"
      ]
     },
     "execution_count": 29,
     "metadata": {},
     "output_type": "execute_result"
    }
   ],
   "source": [
    "eigen_val"
   ]
  },
  {
   "cell_type": "code",
   "execution_count": 30,
   "metadata": {},
   "outputs": [
    {
     "data": {
      "text/plain": [
       "array([[ 0.70710678, -0.70710678],\n",
       "       [ 0.70710678,  0.70710678]])"
      ]
     },
     "execution_count": 30,
     "metadata": {},
     "output_type": "execute_result"
    }
   ],
   "source": [
    "eigen_vec"
   ]
  },
  {
   "cell_type": "markdown",
   "metadata": {},
   "source": [
    "### 3 x 3 Matrix"
   ]
  },
  {
   "cell_type": "code",
   "execution_count": 31,
   "metadata": {},
   "outputs": [],
   "source": [
    "f = np.matrix([[1,1,1],\n",
    "               [3,8,1],\n",
    "               [5,-4,3]])"
   ]
  },
  {
   "cell_type": "code",
   "execution_count": 32,
   "metadata": {},
   "outputs": [
    {
     "data": {
      "text/plain": [
       "(array([-0.70156212,  5.70156212,  7.        ]),\n",
       " matrix([[-5.44055877e-01,  8.18568585e-02,  1.73092434e-17],\n",
       "         [ 9.17246072e-02, -4.85526254e-01, -7.07106781e-01],\n",
       "         [ 8.34020263e-01,  8.70381360e-01,  7.07106781e-01]]))"
      ]
     },
     "execution_count": 32,
     "metadata": {},
     "output_type": "execute_result"
    }
   ],
   "source": [
    "np.linalg.eig(f)"
   ]
  },
  {
   "cell_type": "code",
   "execution_count": null,
   "metadata": {},
   "outputs": [],
   "source": []
  }
 ],
 "metadata": {
  "kernelspec": {
   "display_name": "Python 3",
   "language": "python",
   "name": "python3"
  },
  "language_info": {
   "codemirror_mode": {
    "name": "ipython",
    "version": 3
   },
   "file_extension": ".py",
   "mimetype": "text/x-python",
   "name": "python",
   "nbconvert_exporter": "python",
   "pygments_lexer": "ipython3",
   "version": "3.7.7"
  }
 },
 "nbformat": 4,
 "nbformat_minor": 4
}
